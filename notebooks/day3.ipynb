{
 "cells": [
  {
   "cell_type": "markdown",
   "id": "1b09c203",
   "metadata": {},
   "source": [
    "## Basic functions in python \n",
    "Functions are defined using def, arguments can be defined with out without default values."
   ]
  },
  {
   "cell_type": "code",
   "execution_count": 3,
   "id": "e49f35d3",
   "metadata": {},
   "outputs": [],
   "source": [
    "def f(x, y=2, z=3):\n",
    "    print(f\"x={x}, y={y}, z={z}\")"
   ]
  },
  {
   "cell_type": "code",
   "execution_count": 4,
   "id": "e657d3a5",
   "metadata": {},
   "outputs": [
    {
     "name": "stdout",
     "output_type": "stream",
     "text": [
      "x=2, y=2, z=3\n"
     ]
    }
   ],
   "source": [
    "f(2)"
   ]
  },
  {
   "cell_type": "code",
   "execution_count": 3,
   "id": "c76c76cb",
   "metadata": {},
   "outputs": [
    {
     "name": "stdout",
     "output_type": "stream",
     "text": [
      "x=abc, y=True, z=3\n"
     ]
    }
   ],
   "source": [
    "f(\"abc\", y=True)"
   ]
  },
  {
   "cell_type": "code",
   "execution_count": null,
   "id": "9dee7f80",
   "metadata": {},
   "outputs": [],
   "source": [
    "f()"
   ]
  },
  {
   "cell_type": "code",
   "execution_count": 6,
   "id": "9693d329",
   "metadata": {},
   "outputs": [],
   "source": [
    "def f(x:int, y=2, z=3) -> int:\n",
    "    print(f\"x={x}, y={y}, z={z}\")\n",
    "    return x"
   ]
  },
  {
   "cell_type": "code",
   "execution_count": 7,
   "id": "482a7156",
   "metadata": {},
   "outputs": [
    {
     "name": "stdout",
     "output_type": "stream",
     "text": [
      "x=abc, y=True, z=3\n"
     ]
    },
    {
     "data": {
      "text/plain": [
       "'abc'"
      ]
     },
     "execution_count": 7,
     "metadata": {},
     "output_type": "execute_result"
    }
   ],
   "source": [
    "f(\"abc\", y=True)"
   ]
  },
  {
   "cell_type": "code",
   "execution_count": 9,
   "id": "f3caac50",
   "metadata": {},
   "outputs": [
    {
     "data": {
      "text/plain": [
       "{'x': int, 'return': int}"
      ]
     },
     "execution_count": 9,
     "metadata": {},
     "output_type": "execute_result"
    }
   ],
   "source": [
    "f.__annotations__"
   ]
  },
  {
   "cell_type": "code",
   "execution_count": 10,
   "id": "101153c6",
   "metadata": {},
   "outputs": [
    {
     "data": {
      "text/plain": [
       "['__annotations__',\n",
       " '__builtins__',\n",
       " '__call__',\n",
       " '__class__',\n",
       " '__closure__',\n",
       " '__code__',\n",
       " '__defaults__',\n",
       " '__delattr__',\n",
       " '__dict__',\n",
       " '__dir__',\n",
       " '__doc__',\n",
       " '__eq__',\n",
       " '__format__',\n",
       " '__ge__',\n",
       " '__get__',\n",
       " '__getattribute__',\n",
       " '__getstate__',\n",
       " '__globals__',\n",
       " '__gt__',\n",
       " '__hash__',\n",
       " '__init__',\n",
       " '__init_subclass__',\n",
       " '__kwdefaults__',\n",
       " '__le__',\n",
       " '__lt__',\n",
       " '__module__',\n",
       " '__name__',\n",
       " '__ne__',\n",
       " '__new__',\n",
       " '__qualname__',\n",
       " '__reduce__',\n",
       " '__reduce_ex__',\n",
       " '__repr__',\n",
       " '__setattr__',\n",
       " '__sizeof__',\n",
       " '__str__',\n",
       " '__subclasshook__']"
      ]
     },
     "execution_count": 10,
     "metadata": {},
     "output_type": "execute_result"
    }
   ],
   "source": [
    "dir(f)"
   ]
  },
  {
   "cell_type": "code",
   "execution_count": 11,
   "id": "11055c52",
   "metadata": {},
   "outputs": [],
   "source": [
    "f = 23"
   ]
  },
  {
   "cell_type": "code",
   "execution_count": 12,
   "id": "8062cf5a",
   "metadata": {},
   "outputs": [
    {
     "data": {
      "text/plain": [
       "23"
      ]
     },
     "execution_count": 12,
     "metadata": {},
     "output_type": "execute_result"
    }
   ],
   "source": [
    "f "
   ]
  },
  {
   "cell_type": "code",
   "execution_count": 13,
   "id": "65d2695b",
   "metadata": {},
   "outputs": [
    {
     "ename": "TypeError",
     "evalue": "'int' object is not callable",
     "output_type": "error",
     "traceback": [
      "\u001b[0;31m---------------------------------------------------------------------------\u001b[0m",
      "\u001b[0;31mTypeError\u001b[0m                                 Traceback (most recent call last)",
      "Cell \u001b[0;32mIn[13], line 1\u001b[0m\n\u001b[0;32m----> 1\u001b[0m \u001b[43mf\u001b[49m\u001b[43m(\u001b[49m\u001b[38;5;241;43m2\u001b[39;49m\u001b[43m)\u001b[49m\n",
      "\u001b[0;31mTypeError\u001b[0m: 'int' object is not callable"
     ]
    }
   ],
   "source": [
    "f(2)"
   ]
  },
  {
   "cell_type": "markdown",
   "id": "f8bfee34",
   "metadata": {},
   "source": [
    "## return statements"
   ]
  },
  {
   "cell_type": "code",
   "execution_count": null,
   "id": "31922231",
   "metadata": {},
   "outputs": [],
   "source": []
  },
  {
   "cell_type": "code",
   "execution_count": null,
   "id": "96554c3c",
   "metadata": {},
   "outputs": [],
   "source": []
  },
  {
   "cell_type": "code",
   "execution_count": 12,
   "id": "3d584316",
   "metadata": {},
   "outputs": [],
   "source": [
    "def fsquare(x) : \n",
    "    x**2"
   ]
  },
  {
   "cell_type": "code",
   "execution_count": 13,
   "id": "25fe4dce",
   "metadata": {},
   "outputs": [],
   "source": [
    "fsquare(2)"
   ]
  },
  {
   "cell_type": "code",
   "execution_count": 14,
   "id": "515d4d9b",
   "metadata": {},
   "outputs": [
    {
     "data": {
      "text/plain": [
       "NoneType"
      ]
     },
     "execution_count": 14,
     "metadata": {},
     "output_type": "execute_result"
    }
   ],
   "source": [
    "type(fsquare(2))"
   ]
  },
  {
   "cell_type": "code",
   "execution_count": 15,
   "id": "b80c3d40",
   "metadata": {},
   "outputs": [],
   "source": [
    "def fsquare(x) : \n",
    "    return x**2"
   ]
  },
  {
   "cell_type": "code",
   "execution_count": 16,
   "id": "d3efc880",
   "metadata": {},
   "outputs": [
    {
     "data": {
      "text/plain": [
       "9"
      ]
     },
     "execution_count": 16,
     "metadata": {},
     "output_type": "execute_result"
    }
   ],
   "source": [
    "fsquare(3)"
   ]
  },
  {
   "cell_type": "code",
   "execution_count": 17,
   "id": "99cb2b1a",
   "metadata": {},
   "outputs": [
    {
     "data": {
      "text/plain": [
       "int"
      ]
     },
     "execution_count": 17,
     "metadata": {},
     "output_type": "execute_result"
    }
   ],
   "source": [
    "type(fsquare(3))"
   ]
  },
  {
   "cell_type": "code",
   "execution_count": 18,
   "id": "c9fb4d8c",
   "metadata": {},
   "outputs": [
    {
     "data": {
      "text/plain": [
       "False"
      ]
     },
     "execution_count": 18,
     "metadata": {},
     "output_type": "execute_result"
    }
   ],
   "source": [
    "def is_odd(x):\n",
    "    if x % 2 == 0: return False\n",
    "    else:          return True\n",
    "is_odd(2)"
   ]
  },
  {
   "cell_type": "code",
   "execution_count": 19,
   "id": "cf52b427",
   "metadata": {},
   "outputs": [
    {
     "data": {
      "text/plain": [
       "False"
      ]
     },
     "execution_count": 19,
     "metadata": {},
     "output_type": "execute_result"
    }
   ],
   "source": [
    "is_odd(2)"
   ]
  },
  {
   "cell_type": "code",
   "execution_count": 20,
   "id": "e1bc882e",
   "metadata": {},
   "outputs": [
    {
     "data": {
      "text/plain": [
       "(1, 2, 3)"
      ]
     },
     "execution_count": 20,
     "metadata": {},
     "output_type": "execute_result"
    }
   ],
   "source": [
    "#Functions can return multiple values using a tuple or list,\n",
    "\n",
    "def f():\n",
    "    return (1,2,3)\n",
    "f()\n"
   ]
  },
  {
   "cell_type": "code",
   "execution_count": 21,
   "id": "9ebad87f",
   "metadata": {},
   "outputs": [
    {
     "data": {
      "text/plain": [
       "[1, 2, 3]"
      ]
     },
     "execution_count": 21,
     "metadata": {},
     "output_type": "execute_result"
    }
   ],
   "source": [
    "def g():\n",
    "    return [1,2,3]\n",
    "g()\n",
    "\n"
   ]
  },
  {
   "cell_type": "code",
   "execution_count": null,
   "id": "4382c0f7",
   "metadata": {},
   "outputs": [],
   "source": [
    "# What about this?\n",
    "def h():\n",
    "    return 1,2,3\n",
    "h()\n",
    "\n",
    "\n",
    "def i():\n",
    "    return 1, [2, 3]\n",
    "i()"
   ]
  },
  {
   "cell_type": "markdown",
   "id": "1880ef73",
   "metadata": {},
   "source": [
    "## Doc strings\n",
    "\n",
    "A common practice in Python is to document a function (and other objects) using a doc string - this is a short concise summary of the objects purpose. Doc strings are specified by supplying a string as the very line in the function definition."
   ]
  },
  {
   "cell_type": "code",
   "execution_count": 22,
   "id": "0b5e06c6",
   "metadata": {},
   "outputs": [],
   "source": [
    "def f():\n",
    "    \"Hello.\"\n",
    "    pass\n"
   ]
  },
  {
   "cell_type": "code",
   "execution_count": 23,
   "id": "1aadd12d",
   "metadata": {},
   "outputs": [
    {
     "data": {
      "text/plain": [
       "function"
      ]
     },
     "execution_count": 23,
     "metadata": {},
     "output_type": "execute_result"
    }
   ],
   "source": [
    "type(f)"
   ]
  },
  {
   "cell_type": "code",
   "execution_count": 24,
   "id": "fccfb1ce",
   "metadata": {},
   "outputs": [
    {
     "data": {
      "text/plain": [
       "['__annotations__',\n",
       " '__builtins__',\n",
       " '__call__',\n",
       " '__class__',\n",
       " '__closure__',\n",
       " '__code__',\n",
       " '__defaults__',\n",
       " '__delattr__',\n",
       " '__dict__',\n",
       " '__dir__',\n",
       " '__doc__',\n",
       " '__eq__',\n",
       " '__format__',\n",
       " '__ge__',\n",
       " '__get__',\n",
       " '__getattribute__',\n",
       " '__getstate__',\n",
       " '__globals__',\n",
       " '__gt__',\n",
       " '__hash__',\n",
       " '__init__',\n",
       " '__init_subclass__',\n",
       " '__kwdefaults__',\n",
       " '__le__',\n",
       " '__lt__',\n",
       " '__module__',\n",
       " '__name__',\n",
       " '__ne__',\n",
       " '__new__',\n",
       " '__qualname__',\n",
       " '__reduce__',\n",
       " '__reduce_ex__',\n",
       " '__repr__',\n",
       " '__setattr__',\n",
       " '__sizeof__',\n",
       " '__str__',\n",
       " '__subclasshook__']"
      ]
     },
     "execution_count": 24,
     "metadata": {},
     "output_type": "execute_result"
    }
   ],
   "source": [
    "dir(f)"
   ]
  },
  {
   "cell_type": "code",
   "execution_count": 25,
   "id": "f9374318",
   "metadata": {},
   "outputs": [
    {
     "data": {
      "text/plain": [
       "'f'"
      ]
     },
     "execution_count": 25,
     "metadata": {},
     "output_type": "execute_result"
    }
   ],
   "source": [
    "f.__name__"
   ]
  },
  {
   "cell_type": "code",
   "execution_count": 26,
   "id": "3b91c0ee",
   "metadata": {},
   "outputs": [
    {
     "data": {
      "text/plain": [
       "'Hello.'"
      ]
     },
     "execution_count": 26,
     "metadata": {},
     "output_type": "execute_result"
    }
   ],
   "source": [
    "f.__doc__"
   ]
  },
  {
   "cell_type": "markdown",
   "id": "496b72f5",
   "metadata": {},
   "source": [
    "## Variadic arguments\n",
    "\n",
    "If the number of arguments is unknown it is possible to define to define variadic functions\n",
    "\n"
   ]
  },
  {
   "cell_type": "code",
   "execution_count": 27,
   "id": "eb873b7c",
   "metadata": {},
   "outputs": [
    {
     "data": {
      "text/plain": [
       "'A'"
      ]
     },
     "execution_count": 27,
     "metadata": {},
     "output_type": "execute_result"
    }
   ],
   "source": [
    "def paste(*args, sep=\" \"):\n",
    "    return sep.join(args)\n",
    "\n",
    "paste(\"A\")\n"
   ]
  },
  {
   "cell_type": "code",
   "execution_count": 28,
   "id": "8dd229ee",
   "metadata": {},
   "outputs": [
    {
     "data": {
      "text/plain": [
       "'A B C'"
      ]
     },
     "execution_count": 28,
     "metadata": {},
     "output_type": "execute_result"
    }
   ],
   "source": [
    "paste(\"A\",\"B\",\"C\")"
   ]
  },
  {
   "cell_type": "code",
   "execution_count": 29,
   "id": "7fe55b8c",
   "metadata": {},
   "outputs": [
    {
     "data": {
      "text/plain": [
       "'1,2,3'"
      ]
     },
     "execution_count": 29,
     "metadata": {},
     "output_type": "execute_result"
    }
   ],
   "source": [
    "paste(\"1\",\"2\",\"3\",sep=\",\")"
   ]
  },
  {
   "cell_type": "code",
   "execution_count": 30,
   "id": "9e8516ef",
   "metadata": {},
   "outputs": [],
   "source": [
    "#For the following function x can only be passed by position and z only by name\n",
    "\n",
    "def f(x, /, y, *, z):\n",
    "    print(f\"x={x}, y={y}, z={z}\")\n",
    "\n"
   ]
  },
  {
   "cell_type": "code",
   "execution_count": null,
   "id": "2faadf06",
   "metadata": {},
   "outputs": [],
   "source": [
    "f(1,1,1)\n",
    "\n",
    "f(x=1,y=1,z=1)\n",
    "\n",
    "f(1,1,z=1)\n",
    "\n",
    "f(1,y=1,z=1)"
   ]
  },
  {
   "cell_type": "code",
   "execution_count": 31,
   "id": "a94656fb",
   "metadata": {},
   "outputs": [
    {
     "data": {
      "text/plain": [
       "13"
      ]
     },
     "execution_count": 31,
     "metadata": {},
     "output_type": "execute_result"
    }
   ],
   "source": [
    "g = lambda x, y: x**2 + y**2\n",
    "g(2,3)"
   ]
  },
  {
   "cell_type": "code",
   "execution_count": 32,
   "id": "e56395c2",
   "metadata": {},
   "outputs": [],
   "source": [
    "g = lambda x,y : x**y\n",
    "sign = lambda x: 1 if x > 0 else -1 if x < 0 else 0"
   ]
  },
  {
   "cell_type": "markdown",
   "id": "d59a392a",
   "metadata": {},
   "source": [
    "## Function annotations (type hinting)\n",
    "\n",
    "Python nows supports syntax for providing metadata around the expected type of arguments and the return value of a function.\n",
    "\n"
   ]
  },
  {
   "cell_type": "code",
   "execution_count": 33,
   "id": "c8e0e72c",
   "metadata": {},
   "outputs": [],
   "source": [
    "def f(x: str, y: str, z: str) -> str:\n",
    "    return x + y + z"
   ]
  },
  {
   "cell_type": "code",
   "execution_count": 34,
   "id": "c7854641",
   "metadata": {},
   "outputs": [],
   "source": [
    "f?"
   ]
  },
  {
   "cell_type": "code",
   "execution_count": null,
   "id": "c1082866",
   "metadata": {},
   "outputs": [],
   "source": [
    "f(\"A\",\"B\",\"C\")"
   ]
  },
  {
   "cell_type": "code",
   "execution_count": 35,
   "id": "270033bf",
   "metadata": {},
   "outputs": [
    {
     "data": {
      "text/plain": [
       "6"
      ]
     },
     "execution_count": 35,
     "metadata": {},
     "output_type": "execute_result"
    }
   ],
   "source": [
    "f(1,2,3)"
   ]
  },
  {
   "cell_type": "code",
   "execution_count": 36,
   "id": "5f47a523",
   "metadata": {},
   "outputs": [
    {
     "ename": "TypeError",
     "evalue": "can only concatenate str (not \"int\") to str",
     "output_type": "error",
     "traceback": [
      "\u001b[0;31m---------------------------------------------------------------------------\u001b[0m",
      "\u001b[0;31mTypeError\u001b[0m                                 Traceback (most recent call last)",
      "Cell \u001b[0;32mIn[36], line 1\u001b[0m\n\u001b[0;32m----> 1\u001b[0m \u001b[43mf\u001b[49m\u001b[43m(\u001b[49m\u001b[38;5;124;43m\"\u001b[39;49m\u001b[38;5;124;43mA\u001b[39;49m\u001b[38;5;124;43m\"\u001b[39;49m\u001b[43m,\u001b[49m\u001b[43m \u001b[49m\u001b[38;5;241;43m1\u001b[39;49m\u001b[43m,\u001b[49m\u001b[43m \u001b[49m\u001b[38;5;124;43m\"\u001b[39;49m\u001b[38;5;124;43mB\u001b[39;49m\u001b[38;5;124;43m\"\u001b[39;49m\u001b[43m)\u001b[49m\n",
      "Cell \u001b[0;32mIn[33], line 2\u001b[0m, in \u001b[0;36mf\u001b[0;34m(x, y, z)\u001b[0m\n\u001b[1;32m      1\u001b[0m \u001b[38;5;28;01mdef\u001b[39;00m \u001b[38;5;21mf\u001b[39m(x: \u001b[38;5;28mstr\u001b[39m, y: \u001b[38;5;28mstr\u001b[39m, z: \u001b[38;5;28mstr\u001b[39m) \u001b[38;5;241m-\u001b[39m\u001b[38;5;241m>\u001b[39m \u001b[38;5;28mstr\u001b[39m:\n\u001b[0;32m----> 2\u001b[0m     \u001b[38;5;28;01mreturn\u001b[39;00m \u001b[43mx\u001b[49m\u001b[43m \u001b[49m\u001b[38;5;241;43m+\u001b[39;49m\u001b[43m \u001b[49m\u001b[43my\u001b[49m \u001b[38;5;241m+\u001b[39m z\n",
      "\u001b[0;31mTypeError\u001b[0m: can only concatenate str (not \"int\") to str"
     ]
    }
   ],
   "source": [
    "f(\"A\", 1, \"B\")"
   ]
  },
  {
   "cell_type": "code",
   "execution_count": 14,
   "id": "2ecfd44b",
   "metadata": {},
   "outputs": [],
   "source": [
    "def f(x, /, y, *, z):\n",
    "    print(f\"x={x}, y={y}, z={z}\")"
   ]
  },
  {
   "cell_type": "code",
   "execution_count": 16,
   "id": "86b5f8b3",
   "metadata": {},
   "outputs": [
    {
     "name": "stdout",
     "output_type": "stream",
     "text": [
      "x=1, y=1, z=1\n"
     ]
    }
   ],
   "source": [
    "f(1,y=1,z=1)"
   ]
  },
  {
   "cell_type": "markdown",
   "id": "6c987fa3",
   "metadata": {},
   "source": [
    "## Recursive function \n",
    "### Fibonacci series"
   ]
  },
  {
   "cell_type": "code",
   "execution_count": 17,
   "id": "576a12e0",
   "metadata": {},
   "outputs": [],
   "source": [
    "def fibonacci(n) : \n",
    "    if n == 0 : \n",
    "        return n \n",
    "    elif n == 1 : \n",
    "        return n \n",
    "    else : \n",
    "        return fibonacci(n-1) + fibonacci(n-2)"
   ]
  },
  {
   "cell_type": "code",
   "execution_count": 22,
   "id": "e8fe47fc",
   "metadata": {},
   "outputs": [
    {
     "data": {
      "text/plain": [
       "1134903170"
      ]
     },
     "execution_count": 22,
     "metadata": {},
     "output_type": "execute_result"
    }
   ],
   "source": [
    "fibonacci(45)"
   ]
  },
  {
   "cell_type": "markdown",
   "id": "92a77a02",
   "metadata": {},
   "source": [
    "## Exercise 2\n",
    "\n",
    "Write a function, kg_to_lb, that converts a list of weights in kilograms to a list of weights in pounds (there a 1 kg = 2.20462 lbs). Include a doc string and function annotations.\n",
    "\n",
    "Write a second function, total_lb, that calculates the total weight in pounds of an order, the input arguments should be a list of item weights in kilograms and a list of the number of each item ordered.\n"
   ]
  },
  {
   "cell_type": "markdown",
   "id": "36e1bcce",
   "metadata": {},
   "source": [
    "# Numpy"
   ]
  },
  {
   "cell_type": "code",
   "execution_count": 25,
   "id": "e0736391",
   "metadata": {},
   "outputs": [],
   "source": [
    "# importing a module in Python \n",
    "import numpy as np "
   ]
  },
  {
   "cell_type": "code",
   "execution_count": 26,
   "id": "10ab3a2e",
   "metadata": {},
   "outputs": [
    {
     "data": {
      "text/plain": [
       "array([1, 2, 3])"
      ]
     },
     "execution_count": 26,
     "metadata": {},
     "output_type": "execute_result"
    }
   ],
   "source": [
    "np.array([1,2,3])\n"
   ]
  },
  {
   "cell_type": "code",
   "execution_count": 28,
   "id": "27343449",
   "metadata": {},
   "outputs": [
    {
     "data": {
      "text/plain": [
       "array([[1, 2],\n",
       "       [3, 4]])"
      ]
     },
     "execution_count": 28,
     "metadata": {},
     "output_type": "execute_result"
    }
   ],
   "source": [
    "np.array([[1,2],[3,4]])\n"
   ]
  },
  {
   "cell_type": "code",
   "execution_count": 29,
   "id": "ffabec5c",
   "metadata": {},
   "outputs": [
    {
     "data": {
      "text/plain": [
       "array([[[1, 2],\n",
       "        [3, 4]],\n",
       "\n",
       "       [[5, 6],\n",
       "        [7, 8]]])"
      ]
     },
     "execution_count": 29,
     "metadata": {},
     "output_type": "execute_result"
    }
   ],
   "source": [
    "np.array([[[1,2],[3,4]], [[5,6],[7,8]]])"
   ]
  },
  {
   "cell_type": "code",
   "execution_count": null,
   "id": "ca9bb732",
   "metadata": {},
   "outputs": [],
   "source": []
  }
 ],
 "metadata": {
  "kernelspec": {
   "display_name": "Python 3 (ipykernel)",
   "language": "python",
   "name": "python3"
  },
  "language_info": {
   "codemirror_mode": {
    "name": "ipython",
    "version": 3
   },
   "file_extension": ".py",
   "mimetype": "text/x-python",
   "name": "python",
   "nbconvert_exporter": "python",
   "pygments_lexer": "ipython3",
   "version": "3.11.3"
  }
 },
 "nbformat": 4,
 "nbformat_minor": 5
}
