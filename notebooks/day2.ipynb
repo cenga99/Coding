{
 "cells": [
  {
   "cell_type": "markdown",
   "id": "d615faf8",
   "metadata": {},
   "source": [
    "# Variables in Python "
   ]
  },
  {
   "cell_type": "markdown",
   "id": "fe24dbab",
   "metadata": {},
   "source": [
    "## Boolean operations and comparisons"
   ]
  },
  {
   "cell_type": "code",
   "execution_count": 3,
   "id": "504e4b60",
   "metadata": {},
   "outputs": [
    {
     "data": {
      "text/plain": [
       "True"
      ]
     },
     "execution_count": 3,
     "metadata": {},
     "output_type": "execute_result"
    }
   ],
   "source": [
    "1 and True "
   ]
  },
  {
   "cell_type": "code",
   "execution_count": 4,
   "id": "a7c44aef",
   "metadata": {},
   "outputs": [
    {
     "data": {
      "text/plain": [
       "1"
      ]
     },
     "execution_count": 4,
     "metadata": {},
     "output_type": "execute_result"
    }
   ],
   "source": [
    "0 or 1 "
   ]
  },
  {
   "cell_type": "code",
   "execution_count": 5,
   "id": "324cd8db",
   "metadata": {},
   "outputs": [
    {
     "data": {
      "text/plain": [
       "True"
      ]
     },
     "execution_count": 5,
     "metadata": {},
     "output_type": "execute_result"
    }
   ],
   "source": [
    "not 0 "
   ]
  },
  {
   "cell_type": "code",
   "execution_count": 6,
   "id": "6dd15092",
   "metadata": {},
   "outputs": [
    {
     "data": {
      "text/plain": [
       "False"
      ]
     },
     "execution_count": 6,
     "metadata": {},
     "output_type": "execute_result"
    }
   ],
   "source": [
    "not (0 + 1j )"
   ]
  },
  {
   "cell_type": "code",
   "execution_count": 7,
   "id": "71ebfd03",
   "metadata": {},
   "outputs": [
    {
     "data": {
      "text/plain": [
       "True"
      ]
     },
     "execution_count": 7,
     "metadata": {},
     "output_type": "execute_result"
    }
   ],
   "source": [
    "not (0 + 0j)"
   ]
  },
  {
   "cell_type": "code",
   "execution_count": 8,
   "id": "e0aa5516",
   "metadata": {},
   "outputs": [
    {
     "data": {
      "text/plain": [
       "True"
      ]
     },
     "execution_count": 8,
     "metadata": {},
     "output_type": "execute_result"
    }
   ],
   "source": [
    "5. > 1"
   ]
  },
  {
   "cell_type": "code",
   "execution_count": 9,
   "id": "b413d598",
   "metadata": {},
   "outputs": [
    {
     "data": {
      "text/plain": [
       "True"
      ]
     },
     "execution_count": 9,
     "metadata": {},
     "output_type": "execute_result"
    }
   ],
   "source": [
    "5. == 5 "
   ]
  },
  {
   "cell_type": "code",
   "execution_count": 10,
   "id": "6ac032a0",
   "metadata": {},
   "outputs": [
    {
     "data": {
      "text/plain": [
       "False"
      ]
     },
     "execution_count": 10,
     "metadata": {},
     "output_type": "execute_result"
    }
   ],
   "source": [
    "1 > True"
   ]
  },
  {
   "cell_type": "code",
   "execution_count": 11,
   "id": "3050f794",
   "metadata": {},
   "outputs": [
    {
     "data": {
      "text/plain": [
       "True"
      ]
     },
     "execution_count": 11,
     "metadata": {},
     "output_type": "execute_result"
    }
   ],
   "source": [
    "(1 + 0j) == 1 "
   ]
  },
  {
   "cell_type": "code",
   "execution_count": 12,
   "id": "37cb5ca8",
   "metadata": {},
   "outputs": [
    {
     "data": {
      "text/plain": [
       "False"
      ]
     },
     "execution_count": 12,
     "metadata": {},
     "output_type": "execute_result"
    }
   ],
   "source": [
    "\"abc\" < \"ABC\""
   ]
  },
  {
   "cell_type": "markdown",
   "id": "d0c68e88",
   "metadata": {},
   "source": [
    "What about this? "
   ]
  },
  {
   "cell_type": "code",
   "execution_count": 13,
   "id": "780ad6dd",
   "metadata": {},
   "outputs": [
    {
     "ename": "TypeError",
     "evalue": "'>' not supported between instances of 'str' and 'int'",
     "output_type": "error",
     "traceback": [
      "\u001b[0;31m---------------------------------------------------------------------------\u001b[0m",
      "\u001b[0;31mTypeError\u001b[0m                                 Traceback (most recent call last)",
      "\u001b[0;32m/var/folders/xr/5fv2rjx15t5g4p_k7d9tqjyr0000gn/T/ipykernel_71315/463724919.py\u001b[0m in \u001b[0;36m<module>\u001b[0;34m\u001b[0m\n\u001b[0;32m----> 1\u001b[0;31m \u001b[0;34m\"abc\"\u001b[0m \u001b[0;34m>\u001b[0m \u001b[0;36m5\u001b[0m\u001b[0;34m\u001b[0m\u001b[0;34m\u001b[0m\u001b[0m\n\u001b[0m",
      "\u001b[0;31mTypeError\u001b[0m: '>' not supported between instances of 'str' and 'int'"
     ]
    }
   ],
   "source": [
    "\"abc\" > 5"
   ]
  },
  {
   "cell_type": "markdown",
   "id": "61039782",
   "metadata": {},
   "source": [
    "## Basic arithmetic orperations between two variables\n",
    "The basic arithmetic operators are available in python. These are\n",
    "1. Addition - (+)\n",
    "2. Subtraction - (-)\n",
    "3. Multiplication - (*)\n",
    "4. Division - (/)\n",
    "5. Remainder - (%)\n",
    "6. Exponentiation (power) - (**)"
   ]
  },
  {
   "cell_type": "code",
   "execution_count": 14,
   "id": "86345880",
   "metadata": {},
   "outputs": [
    {
     "data": {
      "text/plain": [
       "6"
      ]
     },
     "execution_count": 14,
     "metadata": {},
     "output_type": "execute_result"
    }
   ],
   "source": [
    "1 + 5 "
   ]
  },
  {
   "cell_type": "code",
   "execution_count": 15,
   "id": "2a166059",
   "metadata": {},
   "outputs": [
    {
     "data": {
      "text/plain": [
       "6.0"
      ]
     },
     "execution_count": 15,
     "metadata": {},
     "output_type": "execute_result"
    }
   ],
   "source": [
    "1 + 5. "
   ]
  },
  {
   "cell_type": "code",
   "execution_count": 16,
   "id": "e13cea72",
   "metadata": {},
   "outputs": [
    {
     "data": {
      "text/plain": [
       "5.0"
      ]
     },
     "execution_count": 16,
     "metadata": {},
     "output_type": "execute_result"
    }
   ],
   "source": [
    "1 * 5. "
   ]
  },
  {
   "cell_type": "code",
   "execution_count": 17,
   "id": "a2d55009",
   "metadata": {},
   "outputs": [
    {
     "data": {
      "text/plain": [
       "5"
      ]
     },
     "execution_count": 17,
     "metadata": {},
     "output_type": "execute_result"
    }
   ],
   "source": [
    "True * 5 "
   ]
  },
  {
   "cell_type": "code",
   "execution_count": 18,
   "id": "6f2a4515",
   "metadata": {},
   "outputs": [
    {
     "data": {
      "text/plain": [
       "-1j"
      ]
     },
     "execution_count": 18,
     "metadata": {},
     "output_type": "execute_result"
    }
   ],
   "source": [
    "(1 + 0j) - (1 + 1j)"
   ]
  },
  {
   "cell_type": "code",
   "execution_count": 19,
   "id": "5452d2f8",
   "metadata": {},
   "outputs": [
    {
     "data": {
      "text/plain": [
       "5.0"
      ]
     },
     "execution_count": 19,
     "metadata": {},
     "output_type": "execute_result"
    }
   ],
   "source": [
    "5/1 "
   ]
  },
  {
   "cell_type": "code",
   "execution_count": 20,
   "id": "ba9e037d",
   "metadata": {},
   "outputs": [
    {
     "data": {
      "text/plain": [
       "2"
      ]
     },
     "execution_count": 20,
     "metadata": {},
     "output_type": "execute_result"
    }
   ],
   "source": [
    "5//2"
   ]
  },
  {
   "cell_type": "code",
   "execution_count": 21,
   "id": "6efa6a46",
   "metadata": {},
   "outputs": [
    {
     "data": {
      "text/plain": [
       "1"
      ]
     },
     "execution_count": 21,
     "metadata": {},
     "output_type": "execute_result"
    }
   ],
   "source": [
    "5%2"
   ]
  },
  {
   "cell_type": "code",
   "execution_count": 22,
   "id": "2c1129ed",
   "metadata": {},
   "outputs": [
    {
     "data": {
      "text/plain": [
       "49"
      ]
     },
     "execution_count": 22,
     "metadata": {},
     "output_type": "execute_result"
    }
   ],
   "source": [
    "7**2 "
   ]
  },
  {
   "cell_type": "markdown",
   "id": "df5f1509",
   "metadata": {},
   "source": [
    "What if we do this? "
   ]
  },
  {
   "cell_type": "code",
   "execution_count": 23,
   "id": "6fe59369",
   "metadata": {},
   "outputs": [
    {
     "ename": "TypeError",
     "evalue": "can only concatenate str (not \"int\") to str",
     "output_type": "error",
     "traceback": [
      "\u001b[0;31m---------------------------------------------------------------------------\u001b[0m",
      "\u001b[0;31mTypeError\u001b[0m                                 Traceback (most recent call last)",
      "\u001b[0;32m/var/folders/xr/5fv2rjx15t5g4p_k7d9tqjyr0000gn/T/ipykernel_71315/2169198870.py\u001b[0m in \u001b[0;36m<module>\u001b[0;34m\u001b[0m\n\u001b[0;32m----> 1\u001b[0;31m \u001b[0;34m\"abc\"\u001b[0m \u001b[0;34m+\u001b[0m \u001b[0;36m5\u001b[0m\u001b[0;34m\u001b[0m\u001b[0;34m\u001b[0m\u001b[0m\n\u001b[0m",
      "\u001b[0;31mTypeError\u001b[0m: can only concatenate str (not \"int\") to str"
     ]
    }
   ],
   "source": [
    "\"abc\" + 5 "
   ]
  },
  {
   "cell_type": "code",
   "execution_count": 24,
   "id": "65c477c0",
   "metadata": {},
   "outputs": [
    {
     "data": {
      "text/plain": [
       "'abc5'"
      ]
     },
     "execution_count": 24,
     "metadata": {},
     "output_type": "execute_result"
    }
   ],
   "source": [
    "\"abc\" + str(5)"
   ]
  },
  {
   "cell_type": "code",
   "execution_count": 26,
   "id": "d7ab6ad8",
   "metadata": {},
   "outputs": [
    {
     "ename": "TypeError",
     "evalue": "unsupported operand type(s) for ** or pow(): 'str' and 'int'",
     "output_type": "error",
     "traceback": [
      "\u001b[0;31m---------------------------------------------------------------------------\u001b[0m",
      "\u001b[0;31mTypeError\u001b[0m                                 Traceback (most recent call last)",
      "\u001b[0;32m/var/folders/xr/5fv2rjx15t5g4p_k7d9tqjyr0000gn/T/ipykernel_71315/427964639.py\u001b[0m in \u001b[0;36m<module>\u001b[0;34m\u001b[0m\n\u001b[0;32m----> 1\u001b[0;31m \u001b[0;34m\"abc\"\u001b[0m \u001b[0;34m**\u001b[0m \u001b[0;36m2\u001b[0m\u001b[0;34m\u001b[0m\u001b[0;34m\u001b[0m\u001b[0m\n\u001b[0m",
      "\u001b[0;31mTypeError\u001b[0m: unsupported operand type(s) for ** or pow(): 'str' and 'int'"
     ]
    }
   ],
   "source": [
    "\"abc\" ** 2  "
   ]
  },
  {
   "cell_type": "code",
   "execution_count": 27,
   "id": "f6178f9d",
   "metadata": {},
   "outputs": [
    {
     "data": {
      "text/plain": [
       "'abcabcabc'"
      ]
     },
     "execution_count": 27,
     "metadata": {},
     "output_type": "execute_result"
    }
   ],
   "source": [
    "\"abc\" * 3 "
   ]
  },
  {
   "cell_type": "markdown",
   "id": "6bd7ec79",
   "metadata": {},
   "source": [
    "## Casting and assignment"
   ]
  },
  {
   "cell_type": "code",
   "execution_count": 28,
   "id": "6a4b297a",
   "metadata": {},
   "outputs": [],
   "source": [
    "float?"
   ]
  },
  {
   "cell_type": "code",
   "execution_count": 29,
   "id": "3964a31d",
   "metadata": {},
   "outputs": [
    {
     "data": {
      "text/plain": [
       "['__abs__',\n",
       " '__add__',\n",
       " '__bool__',\n",
       " '__class__',\n",
       " '__delattr__',\n",
       " '__dir__',\n",
       " '__divmod__',\n",
       " '__doc__',\n",
       " '__eq__',\n",
       " '__float__',\n",
       " '__floordiv__',\n",
       " '__format__',\n",
       " '__ge__',\n",
       " '__getattribute__',\n",
       " '__getformat__',\n",
       " '__getnewargs__',\n",
       " '__gt__',\n",
       " '__hash__',\n",
       " '__init__',\n",
       " '__init_subclass__',\n",
       " '__int__',\n",
       " '__le__',\n",
       " '__lt__',\n",
       " '__mod__',\n",
       " '__mul__',\n",
       " '__ne__',\n",
       " '__neg__',\n",
       " '__new__',\n",
       " '__pos__',\n",
       " '__pow__',\n",
       " '__radd__',\n",
       " '__rdivmod__',\n",
       " '__reduce__',\n",
       " '__reduce_ex__',\n",
       " '__repr__',\n",
       " '__rfloordiv__',\n",
       " '__rmod__',\n",
       " '__rmul__',\n",
       " '__round__',\n",
       " '__rpow__',\n",
       " '__rsub__',\n",
       " '__rtruediv__',\n",
       " '__set_format__',\n",
       " '__setattr__',\n",
       " '__sizeof__',\n",
       " '__str__',\n",
       " '__sub__',\n",
       " '__subclasshook__',\n",
       " '__truediv__',\n",
       " '__trunc__',\n",
       " 'as_integer_ratio',\n",
       " 'conjugate',\n",
       " 'fromhex',\n",
       " 'hex',\n",
       " 'imag',\n",
       " 'is_integer',\n",
       " 'real']"
      ]
     },
     "execution_count": 29,
     "metadata": {},
     "output_type": "execute_result"
    }
   ],
   "source": [
    "dir(float)"
   ]
  },
  {
   "cell_type": "code",
   "execution_count": 31,
   "id": "44eedc31",
   "metadata": {},
   "outputs": [
    {
     "data": {
      "text/plain": [
       "5.0"
      ]
     },
     "execution_count": 31,
     "metadata": {},
     "output_type": "execute_result"
    }
   ],
   "source": [
    "float.__add__(2.,3.)"
   ]
  },
  {
   "cell_type": "code",
   "execution_count": 32,
   "id": "ad8e1566",
   "metadata": {},
   "outputs": [],
   "source": [
    "float.__add__?"
   ]
  },
  {
   "cell_type": "code",
   "execution_count": 33,
   "id": "6fc1f2ea",
   "metadata": {},
   "outputs": [
    {
     "data": {
      "text/plain": [
       "1.0"
      ]
     },
     "execution_count": 33,
     "metadata": {},
     "output_type": "execute_result"
    }
   ],
   "source": [
    "float(True)"
   ]
  },
  {
   "cell_type": "code",
   "execution_count": 34,
   "id": "17e45c3a",
   "metadata": {},
   "outputs": [
    {
     "data": {
      "text/plain": [
       "1"
      ]
     },
     "execution_count": 34,
     "metadata": {},
     "output_type": "execute_result"
    }
   ],
   "source": [
    "int(1.1)"
   ]
  },
  {
   "cell_type": "code",
   "execution_count": 35,
   "id": "7e7138bf",
   "metadata": {},
   "outputs": [
    {
     "data": {
      "text/plain": [
       "2"
      ]
     },
     "execution_count": 35,
     "metadata": {},
     "output_type": "execute_result"
    }
   ],
   "source": [
    "int(\"2\")"
   ]
  },
  {
   "cell_type": "code",
   "execution_count": 36,
   "id": "7d061062",
   "metadata": {},
   "outputs": [
    {
     "data": {
      "text/plain": [
       "False"
      ]
     },
     "execution_count": 36,
     "metadata": {},
     "output_type": "execute_result"
    }
   ],
   "source": [
    "bool(0)"
   ]
  },
  {
   "cell_type": "code",
   "execution_count": 37,
   "id": "2c98641c",
   "metadata": {},
   "outputs": [
    {
     "data": {
      "text/plain": [
       "True"
      ]
     },
     "execution_count": 37,
     "metadata": {},
     "output_type": "execute_result"
    }
   ],
   "source": [
    "bool(\"hello\")"
   ]
  },
  {
   "cell_type": "code",
   "execution_count": 38,
   "id": "804d0212",
   "metadata": {},
   "outputs": [],
   "source": [
    "bool?"
   ]
  },
  {
   "cell_type": "code",
   "execution_count": 39,
   "id": "b483372b",
   "metadata": {},
   "outputs": [
    {
     "data": {
      "text/plain": [
       "'3.14159'"
      ]
     },
     "execution_count": 39,
     "metadata": {},
     "output_type": "execute_result"
    }
   ],
   "source": [
    "str(3.14159)"
   ]
  },
  {
   "cell_type": "code",
   "execution_count": 40,
   "id": "d2b31108",
   "metadata": {},
   "outputs": [
    {
     "data": {
      "text/plain": [
       "'True'"
      ]
     },
     "execution_count": 40,
     "metadata": {},
     "output_type": "execute_result"
    }
   ],
   "source": [
    "str(True)"
   ]
  },
  {
   "cell_type": "code",
   "execution_count": 41,
   "id": "0981a794",
   "metadata": {},
   "outputs": [
    {
     "ename": "ValueError",
     "evalue": "invalid literal for int() with base 10: '2.1'",
     "output_type": "error",
     "traceback": [
      "\u001b[0;31m---------------------------------------------------------------------------\u001b[0m",
      "\u001b[0;31mValueError\u001b[0m                                Traceback (most recent call last)",
      "\u001b[0;32m/var/folders/xr/5fv2rjx15t5g4p_k7d9tqjyr0000gn/T/ipykernel_71315/2539573619.py\u001b[0m in \u001b[0;36m<module>\u001b[0;34m\u001b[0m\n\u001b[0;32m----> 1\u001b[0;31m \u001b[0mint\u001b[0m\u001b[0;34m(\u001b[0m\u001b[0;34m\"2.1\"\u001b[0m\u001b[0;34m)\u001b[0m\u001b[0;34m\u001b[0m\u001b[0;34m\u001b[0m\u001b[0m\n\u001b[0m",
      "\u001b[0;31mValueError\u001b[0m: invalid literal for int() with base 10: '2.1'"
     ]
    }
   ],
   "source": [
    "int(\"2.1\")"
   ]
  },
  {
   "cell_type": "code",
   "execution_count": 42,
   "id": "ce0e92d7",
   "metadata": {},
   "outputs": [],
   "source": [
    "int?"
   ]
  },
  {
   "cell_type": "markdown",
   "id": "1c93dff5",
   "metadata": {},
   "source": [
    "## Variable assignment"
   ]
  },
  {
   "cell_type": "code",
   "execution_count": 72,
   "id": "12b3ac44",
   "metadata": {},
   "outputs": [
    {
     "data": {
      "text/plain": [
       "100"
      ]
     },
     "execution_count": 72,
     "metadata": {},
     "output_type": "execute_result"
    }
   ],
   "source": [
    "x = 100 \n",
    "x "
   ]
  },
  {
   "cell_type": "code",
   "execution_count": 73,
   "id": "9a6463f6",
   "metadata": {},
   "outputs": [
    {
     "data": {
      "text/plain": [
       "int"
      ]
     },
     "execution_count": 73,
     "metadata": {},
     "output_type": "execute_result"
    }
   ],
   "source": [
    "type(x)"
   ]
  },
  {
   "cell_type": "code",
   "execution_count": 46,
   "id": "4553efc6",
   "metadata": {},
   "outputs": [
    {
     "data": {
      "text/plain": [
       "100"
      ]
     },
     "execution_count": 46,
     "metadata": {},
     "output_type": "execute_result"
    }
   ],
   "source": [
    "y = x\n",
    "y"
   ]
  },
  {
   "cell_type": "code",
   "execution_count": 49,
   "id": "1104f717",
   "metadata": {},
   "outputs": [
    {
     "data": {
      "text/plain": [
       "1"
      ]
     },
     "execution_count": 49,
     "metadata": {},
     "output_type": "execute_result"
    }
   ],
   "source": [
    "y=1\n",
    "y"
   ]
  },
  {
   "cell_type": "code",
   "execution_count": 50,
   "id": "4867633e",
   "metadata": {},
   "outputs": [],
   "source": [
    "a = b = 5 "
   ]
  },
  {
   "cell_type": "markdown",
   "id": "019067d2",
   "metadata": {},
   "source": [
    "## String literals"
   ]
  },
  {
   "cell_type": "code",
   "execution_count": 51,
   "id": "8ec586dc",
   "metadata": {},
   "outputs": [
    {
     "data": {
      "text/plain": [
       "'allows embedded \"double\" quotes'"
      ]
     },
     "execution_count": 51,
     "metadata": {},
     "output_type": "execute_result"
    }
   ],
   "source": [
    "'allows embedded \"double\" quotes'"
   ]
  },
  {
   "cell_type": "code",
   "execution_count": 52,
   "id": "b5e3b938",
   "metadata": {},
   "outputs": [
    {
     "data": {
      "text/plain": [
       "'allows embedded \"double\" quotes'"
      ]
     },
     "execution_count": 52,
     "metadata": {},
     "output_type": "execute_result"
    }
   ],
   "source": [
    "s = 'allows embedded \"double\" quotes'\n",
    "s "
   ]
  },
  {
   "cell_type": "code",
   "execution_count": 53,
   "id": "4d43770a",
   "metadata": {},
   "outputs": [],
   "source": [
    "s2 = \"\"\"line one\n",
    "2 line two\n",
    "3 line three\"\"\""
   ]
  },
  {
   "cell_type": "code",
   "execution_count": 55,
   "id": "f76b0c6e",
   "metadata": {},
   "outputs": [
    {
     "data": {
      "text/plain": [
       "'line one\\n2 line two\\n3 line three'"
      ]
     },
     "execution_count": 55,
     "metadata": {},
     "output_type": "execute_result"
    }
   ],
   "source": [
    "s2"
   ]
  },
  {
   "cell_type": "code",
   "execution_count": 56,
   "id": "0bcf89ba",
   "metadata": {},
   "outputs": [
    {
     "data": {
      "text/plain": [
       "['__add__',\n",
       " '__class__',\n",
       " '__contains__',\n",
       " '__delattr__',\n",
       " '__dir__',\n",
       " '__doc__',\n",
       " '__eq__',\n",
       " '__format__',\n",
       " '__ge__',\n",
       " '__getattribute__',\n",
       " '__getitem__',\n",
       " '__getnewargs__',\n",
       " '__gt__',\n",
       " '__hash__',\n",
       " '__init__',\n",
       " '__init_subclass__',\n",
       " '__iter__',\n",
       " '__le__',\n",
       " '__len__',\n",
       " '__lt__',\n",
       " '__mod__',\n",
       " '__mul__',\n",
       " '__ne__',\n",
       " '__new__',\n",
       " '__reduce__',\n",
       " '__reduce_ex__',\n",
       " '__repr__',\n",
       " '__rmod__',\n",
       " '__rmul__',\n",
       " '__setattr__',\n",
       " '__sizeof__',\n",
       " '__str__',\n",
       " '__subclasshook__',\n",
       " 'capitalize',\n",
       " 'casefold',\n",
       " 'center',\n",
       " 'count',\n",
       " 'encode',\n",
       " 'endswith',\n",
       " 'expandtabs',\n",
       " 'find',\n",
       " 'format',\n",
       " 'format_map',\n",
       " 'index',\n",
       " 'isalnum',\n",
       " 'isalpha',\n",
       " 'isascii',\n",
       " 'isdecimal',\n",
       " 'isdigit',\n",
       " 'isidentifier',\n",
       " 'islower',\n",
       " 'isnumeric',\n",
       " 'isprintable',\n",
       " 'isspace',\n",
       " 'istitle',\n",
       " 'isupper',\n",
       " 'join',\n",
       " 'ljust',\n",
       " 'lower',\n",
       " 'lstrip',\n",
       " 'maketrans',\n",
       " 'partition',\n",
       " 'replace',\n",
       " 'rfind',\n",
       " 'rindex',\n",
       " 'rjust',\n",
       " 'rpartition',\n",
       " 'rsplit',\n",
       " 'rstrip',\n",
       " 'split',\n",
       " 'splitlines',\n",
       " 'startswith',\n",
       " 'strip',\n",
       " 'swapcase',\n",
       " 'title',\n",
       " 'translate',\n",
       " 'upper',\n",
       " 'zfill']"
      ]
     },
     "execution_count": 56,
     "metadata": {},
     "output_type": "execute_result"
    }
   ],
   "source": [
    "dir(s2)"
   ]
  },
  {
   "cell_type": "code",
   "execution_count": 58,
   "id": "89d8f473",
   "metadata": {},
   "outputs": [
    {
     "data": {
      "text/plain": [
       "['line', 'one', '2', 'line', 'two', '3', 'line', 'three']"
      ]
     },
     "execution_count": 58,
     "metadata": {},
     "output_type": "execute_result"
    }
   ],
   "source": [
    "s2.split()"
   ]
  },
  {
   "cell_type": "code",
   "execution_count": 59,
   "id": "7c65fd83",
   "metadata": {},
   "outputs": [
    {
     "data": {
      "text/plain": [
       "['line one', '2 line two', '3 line three']"
      ]
     },
     "execution_count": 59,
     "metadata": {},
     "output_type": "execute_result"
    }
   ],
   "source": [
    "s2.split(\"\\n\")"
   ]
  },
  {
   "cell_type": "code",
   "execution_count": 64,
   "id": "5fa9bf2e",
   "metadata": {},
   "outputs": [],
   "source": [
    "x = \"Hello world! 1234\""
   ]
  },
  {
   "cell_type": "code",
   "execution_count": 65,
   "id": "c6442222",
   "metadata": {},
   "outputs": [
    {
     "data": {
      "text/plain": [
       "11"
      ]
     },
     "execution_count": 65,
     "metadata": {},
     "output_type": "execute_result"
    }
   ],
   "source": [
    "x.find(\"!\")"
   ]
  },
  {
   "cell_type": "code",
   "execution_count": 66,
   "id": "e7764fa7",
   "metadata": {},
   "outputs": [
    {
     "data": {
      "text/plain": [
       "'Hello World! 1234'"
      ]
     },
     "execution_count": 66,
     "metadata": {},
     "output_type": "execute_result"
    }
   ],
   "source": [
    "x.title()"
   ]
  },
  {
   "cell_type": "markdown",
   "id": "55e27b44",
   "metadata": {},
   "source": [
    "## List in Python "
   ]
  },
  {
   "cell_type": "markdown",
   "id": "321fd1e9",
   "metadata": {},
   "source": [
    "Python lists are heterogenous, ordered, mutable containers of\n",
    "objects (they behave very similarly to lists in R or in JavaScript)."
   ]
  },
  {
   "cell_type": "code",
   "execution_count": 74,
   "id": "cc981722",
   "metadata": {},
   "outputs": [
    {
     "data": {
      "text/plain": [
       "[0, 1, 1, 0]"
      ]
     },
     "execution_count": 74,
     "metadata": {},
     "output_type": "execute_result"
    }
   ],
   "source": [
    "l = [0,1,1,0] ## can we assign? Copy and deepcopy\n",
    "l"
   ]
  },
  {
   "cell_type": "code",
   "execution_count": 75,
   "id": "5338f009",
   "metadata": {},
   "outputs": [],
   "source": [
    "k = l "
   ]
  },
  {
   "cell_type": "code",
   "execution_count": 76,
   "id": "619baa8f",
   "metadata": {},
   "outputs": [
    {
     "data": {
      "text/plain": [
       "[0, 1, 1, 0]"
      ]
     },
     "execution_count": 76,
     "metadata": {},
     "output_type": "execute_result"
    }
   ],
   "source": [
    "k "
   ]
  },
  {
   "cell_type": "code",
   "execution_count": 77,
   "id": "0833535a",
   "metadata": {},
   "outputs": [],
   "source": [
    "k[0] = 2 "
   ]
  },
  {
   "cell_type": "code",
   "execution_count": 78,
   "id": "ce6c559e",
   "metadata": {},
   "outputs": [
    {
     "data": {
      "text/plain": [
       "[2, 1, 1, 0]"
      ]
     },
     "execution_count": 78,
     "metadata": {},
     "output_type": "execute_result"
    }
   ],
   "source": [
    "l "
   ]
  },
  {
   "cell_type": "code",
   "execution_count": 70,
   "id": "8e8cb1ca",
   "metadata": {},
   "outputs": [
    {
     "data": {
      "text/plain": [
       "[0, True, 'abc']"
      ]
     },
     "execution_count": 70,
     "metadata": {},
     "output_type": "execute_result"
    }
   ],
   "source": [
    "[0, True, \"abc\"]"
   ]
  },
  {
   "cell_type": "code",
   "execution_count": 79,
   "id": "36ac550f",
   "metadata": {},
   "outputs": [
    {
     "data": {
      "text/plain": [
       "[0, [1, 2], [3, [4]]]"
      ]
     },
     "execution_count": 79,
     "metadata": {},
     "output_type": "execute_result"
    }
   ],
   "source": [
    "[0, [1,2], [3,[4]]] "
   ]
  },
  {
   "cell_type": "code",
   "execution_count": 80,
   "id": "5010a4b0",
   "metadata": {},
   "outputs": [
    {
     "data": {
      "text/plain": [
       "list"
      ]
     },
     "execution_count": 80,
     "metadata": {},
     "output_type": "execute_result"
    }
   ],
   "source": [
    "type(l)"
   ]
  },
  {
   "cell_type": "code",
   "execution_count": 81,
   "id": "1a76d3c6",
   "metadata": {},
   "outputs": [
    {
     "data": {
      "text/plain": [
       "['__add__',\n",
       " '__class__',\n",
       " '__contains__',\n",
       " '__delattr__',\n",
       " '__delitem__',\n",
       " '__dir__',\n",
       " '__doc__',\n",
       " '__eq__',\n",
       " '__format__',\n",
       " '__ge__',\n",
       " '__getattribute__',\n",
       " '__getitem__',\n",
       " '__gt__',\n",
       " '__hash__',\n",
       " '__iadd__',\n",
       " '__imul__',\n",
       " '__init__',\n",
       " '__init_subclass__',\n",
       " '__iter__',\n",
       " '__le__',\n",
       " '__len__',\n",
       " '__lt__',\n",
       " '__mul__',\n",
       " '__ne__',\n",
       " '__new__',\n",
       " '__reduce__',\n",
       " '__reduce_ex__',\n",
       " '__repr__',\n",
       " '__reversed__',\n",
       " '__rmul__',\n",
       " '__setattr__',\n",
       " '__setitem__',\n",
       " '__sizeof__',\n",
       " '__str__',\n",
       " '__subclasshook__',\n",
       " 'append',\n",
       " 'clear',\n",
       " 'copy',\n",
       " 'count',\n",
       " 'extend',\n",
       " 'index',\n",
       " 'insert',\n",
       " 'pop',\n",
       " 'remove',\n",
       " 'reverse',\n",
       " 'sort']"
      ]
     },
     "execution_count": 81,
     "metadata": {},
     "output_type": "execute_result"
    }
   ],
   "source": [
    "dir(l)"
   ]
  },
  {
   "cell_type": "code",
   "execution_count": 82,
   "id": "c162989b",
   "metadata": {},
   "outputs": [],
   "source": [
    "l.sort()"
   ]
  },
  {
   "cell_type": "code",
   "execution_count": 83,
   "id": "f372d378",
   "metadata": {},
   "outputs": [
    {
     "data": {
      "text/plain": [
       "[0, 1, 1, 2]"
      ]
     },
     "execution_count": 83,
     "metadata": {},
     "output_type": "execute_result"
    }
   ],
   "source": [
    "l"
   ]
  },
  {
   "cell_type": "code",
   "execution_count": 84,
   "id": "cd8b0ed5",
   "metadata": {},
   "outputs": [
    {
     "data": {
      "text/plain": [
       "[0, True, 'abc']"
      ]
     },
     "execution_count": 84,
     "metadata": {},
     "output_type": "execute_result"
    }
   ],
   "source": [
    "y = [0, True, \"abc\"]\n",
    "y"
   ]
  },
  {
   "cell_type": "code",
   "execution_count": 85,
   "id": "24569bbc",
   "metadata": {},
   "outputs": [
    {
     "data": {
      "text/plain": [
       "list"
      ]
     },
     "execution_count": 85,
     "metadata": {},
     "output_type": "execute_result"
    }
   ],
   "source": [
    "type(y)"
   ]
  },
  {
   "cell_type": "code",
   "execution_count": 86,
   "id": "262200d6",
   "metadata": {},
   "outputs": [
    {
     "ename": "TypeError",
     "evalue": "'<' not supported between instances of 'str' and 'bool'",
     "output_type": "error",
     "traceback": [
      "\u001b[0;31m---------------------------------------------------------------------------\u001b[0m",
      "\u001b[0;31mTypeError\u001b[0m                                 Traceback (most recent call last)",
      "\u001b[0;32m/var/folders/xr/5fv2rjx15t5g4p_k7d9tqjyr0000gn/T/ipykernel_71315/3916801187.py\u001b[0m in \u001b[0;36m<module>\u001b[0;34m\u001b[0m\n\u001b[0;32m----> 1\u001b[0;31m \u001b[0my\u001b[0m\u001b[0;34m.\u001b[0m\u001b[0msort\u001b[0m\u001b[0;34m(\u001b[0m\u001b[0;34m)\u001b[0m\u001b[0;34m\u001b[0m\u001b[0;34m\u001b[0m\u001b[0m\n\u001b[0m",
      "\u001b[0;31mTypeError\u001b[0m: '<' not supported between instances of 'str' and 'bool'"
     ]
    }
   ],
   "source": [
    "y.sort()"
   ]
  },
  {
   "cell_type": "code",
   "execution_count": 122,
   "id": "0a86ace2",
   "metadata": {},
   "outputs": [
    {
     "data": {
      "text/plain": [
       "[0, 1, 1, 2, 45]"
      ]
     },
     "execution_count": 122,
     "metadata": {},
     "output_type": "execute_result"
    }
   ],
   "source": [
    "l.append(45)\n",
    "l"
   ]
  },
  {
   "cell_type": "code",
   "execution_count": 124,
   "id": "3523319b",
   "metadata": {},
   "outputs": [
    {
     "data": {
      "text/plain": [
       "[21, 0, 1, 1, 2, 45]"
      ]
     },
     "execution_count": 124,
     "metadata": {},
     "output_type": "execute_result"
    }
   ],
   "source": [
    "l.insert(0,21)\n",
    "l"
   ]
  },
  {
   "cell_type": "code",
   "execution_count": 128,
   "id": "368a3cf5",
   "metadata": {},
   "outputs": [
    {
     "data": {
      "text/plain": [
       "45"
      ]
     },
     "execution_count": 128,
     "metadata": {},
     "output_type": "execute_result"
    }
   ],
   "source": [
    "l.pop()"
   ]
  },
  {
   "cell_type": "code",
   "execution_count": 129,
   "id": "96248b03",
   "metadata": {},
   "outputs": [
    {
     "data": {
      "text/plain": [
       "[21, 0, 1, 1, 2]"
      ]
     },
     "execution_count": 129,
     "metadata": {},
     "output_type": "execute_result"
    }
   ],
   "source": [
    "l"
   ]
  },
  {
   "cell_type": "code",
   "execution_count": 130,
   "id": "f31f07d1",
   "metadata": {},
   "outputs": [
    {
     "data": {
      "text/plain": [
       "[21, 0, 1, 1, 2, 12, 13, 14]"
      ]
     },
     "execution_count": 130,
     "metadata": {},
     "output_type": "execute_result"
    }
   ],
   "source": [
    "l.extend([12,13,14])\n",
    "l"
   ]
  },
  {
   "cell_type": "markdown",
   "id": "075a827a",
   "metadata": {},
   "source": [
    "## Unpacking lists in Python"
   ]
  },
  {
   "cell_type": "code",
   "execution_count": null,
   "id": "4df00530",
   "metadata": {},
   "outputs": [],
   "source": []
  },
  {
   "cell_type": "markdown",
   "id": "b939118a",
   "metadata": {},
   "source": [
    "In pythonm we can unpack some variables into multiple variables when doing ”assignment”"
   ]
  },
  {
   "cell_type": "code",
   "execution_count": 88,
   "id": "fc37e457",
   "metadata": {},
   "outputs": [
    {
     "data": {
      "text/plain": [
       "1"
      ]
     },
     "execution_count": 88,
     "metadata": {},
     "output_type": "execute_result"
    }
   ],
   "source": [
    "x1,y1 = [1,2]\n",
    "x1"
   ]
  },
  {
   "cell_type": "code",
   "execution_count": 90,
   "id": "c36c626c",
   "metadata": {},
   "outputs": [
    {
     "data": {
      "text/plain": [
       "2"
      ]
     },
     "execution_count": 90,
     "metadata": {},
     "output_type": "execute_result"
    }
   ],
   "source": [
    "y1"
   ]
  },
  {
   "cell_type": "code",
   "execution_count": 91,
   "id": "116fa54a",
   "metadata": {},
   "outputs": [],
   "source": [
    "x1, y1 = [1, [2, 3]]"
   ]
  },
  {
   "cell_type": "code",
   "execution_count": 92,
   "id": "86fbd73f",
   "metadata": {},
   "outputs": [
    {
     "data": {
      "text/plain": [
       "1"
      ]
     },
     "execution_count": 92,
     "metadata": {},
     "output_type": "execute_result"
    }
   ],
   "source": [
    "x1"
   ]
  },
  {
   "cell_type": "code",
   "execution_count": 93,
   "id": "9bf916b5",
   "metadata": {},
   "outputs": [
    {
     "data": {
      "text/plain": [
       "[2, 3]"
      ]
     },
     "execution_count": 93,
     "metadata": {},
     "output_type": "execute_result"
    }
   ],
   "source": [
    "y1"
   ]
  },
  {
   "cell_type": "code",
   "execution_count": 94,
   "id": "9b6a4205",
   "metadata": {},
   "outputs": [],
   "source": [
    "x, *y = [1,2,3] ## what about this x, y = [1,2,3]?"
   ]
  },
  {
   "cell_type": "code",
   "execution_count": 96,
   "id": "87e353dd",
   "metadata": {},
   "outputs": [],
   "source": [
    "*x, y = [1,2,3]"
   ]
  },
  {
   "cell_type": "code",
   "execution_count": 111,
   "id": "de69a80d",
   "metadata": {},
   "outputs": [
    {
     "data": {
      "text/plain": [
       "[0.0, 'a', (2+4j), 2000, 'learn python', [1, 2, 3, 4, 5, 6, 7]]"
      ]
     },
     "execution_count": 111,
     "metadata": {},
     "output_type": "execute_result"
    }
   ],
   "source": [
    "mylist2 = [0.0,'a',2+4j,2000,'learn python',[1,2,3,4,5,6,7]]\n",
    "mylist2"
   ]
  },
  {
   "cell_type": "code",
   "execution_count": 112,
   "id": "5b33daf3",
   "metadata": {},
   "outputs": [
    {
     "data": {
      "text/plain": [
       "[float, str, complex, int, str, list]"
      ]
     },
     "execution_count": 112,
     "metadata": {},
     "output_type": "execute_result"
    }
   ],
   "source": [
    "[type(elt) for elt in mylist2]"
   ]
  },
  {
   "cell_type": "code",
   "execution_count": 119,
   "id": "c5f46a82",
   "metadata": {},
   "outputs": [
    {
     "data": {
      "text/plain": [
       "'a'"
      ]
     },
     "execution_count": 119,
     "metadata": {},
     "output_type": "execute_result"
    }
   ],
   "source": [
    "mylist2[1][0]"
   ]
  },
  {
   "cell_type": "code",
   "execution_count": 120,
   "id": "7770a124",
   "metadata": {},
   "outputs": [
    {
     "data": {
      "text/plain": [
       "'p'"
      ]
     },
     "execution_count": 120,
     "metadata": {},
     "output_type": "execute_result"
    }
   ],
   "source": [
    "mylist2[4][6]"
   ]
  },
  {
   "cell_type": "code",
   "execution_count": 121,
   "id": "d4da8c04",
   "metadata": {},
   "outputs": [
    {
     "data": {
      "text/plain": [
       "4"
      ]
     },
     "execution_count": 121,
     "metadata": {},
     "output_type": "execute_result"
    }
   ],
   "source": [
    "mylist2[5][3]"
   ]
  },
  {
   "cell_type": "markdown",
   "id": "e228fae2",
   "metadata": {},
   "source": [
    "## Tuples in Python\n",
    "Python tuples are heterogenous, ordered, immutable (or\n",
    "non-mutable) containers of values.\n",
    "They are nearly identical to lists except that their values cannot be\n",
    "changed."
   ]
  },
  {
   "cell_type": "code",
   "execution_count": null,
   "id": "d1a8256d",
   "metadata": {},
   "outputs": [],
   "source": []
  },
  {
   "cell_type": "code",
   "execution_count": 97,
   "id": "3134e8d1",
   "metadata": {},
   "outputs": [
    {
     "data": {
      "text/plain": [
       "(1, 2, 3)"
      ]
     },
     "execution_count": 97,
     "metadata": {},
     "output_type": "execute_result"
    }
   ],
   "source": [
    "(1,2,3)"
   ]
  },
  {
   "cell_type": "code",
   "execution_count": 98,
   "id": "93932d8e",
   "metadata": {},
   "outputs": [
    {
     "data": {
      "text/plain": [
       "(1, True, 'abc')"
      ]
     },
     "execution_count": 98,
     "metadata": {},
     "output_type": "execute_result"
    }
   ],
   "source": [
    "(1,True, \"abc\")"
   ]
  },
  {
   "cell_type": "code",
   "execution_count": 99,
   "id": "d32faae2",
   "metadata": {},
   "outputs": [
    {
     "data": {
      "text/plain": [
       "(1, (2, 3))"
      ]
     },
     "execution_count": 99,
     "metadata": {},
     "output_type": "execute_result"
    }
   ],
   "source": [
    "(1,(2,3))"
   ]
  },
  {
   "cell_type": "code",
   "execution_count": 100,
   "id": "fc211c21",
   "metadata": {},
   "outputs": [],
   "source": [
    "x = (1,2,3)"
   ]
  },
  {
   "cell_type": "code",
   "execution_count": 101,
   "id": "a87a1226",
   "metadata": {},
   "outputs": [
    {
     "ename": "TypeError",
     "evalue": "'tuple' object does not support item assignment",
     "output_type": "error",
     "traceback": [
      "\u001b[0;31m---------------------------------------------------------------------------\u001b[0m",
      "\u001b[0;31mTypeError\u001b[0m                                 Traceback (most recent call last)",
      "\u001b[0;32m/var/folders/xr/5fv2rjx15t5g4p_k7d9tqjyr0000gn/T/ipykernel_71315/2868818908.py\u001b[0m in \u001b[0;36m<module>\u001b[0;34m\u001b[0m\n\u001b[0;32m----> 1\u001b[0;31m \u001b[0mx\u001b[0m\u001b[0;34m[\u001b[0m\u001b[0;36m2\u001b[0m\u001b[0;34m]\u001b[0m \u001b[0;34m=\u001b[0m \u001b[0;36m5\u001b[0m\u001b[0;34m\u001b[0m\u001b[0;34m\u001b[0m\u001b[0m\n\u001b[0m",
      "\u001b[0;31mTypeError\u001b[0m: 'tuple' object does not support item assignment"
     ]
    }
   ],
   "source": [
    "x[2] = 5"
   ]
  },
  {
   "cell_type": "code",
   "execution_count": 102,
   "id": "6174afc7",
   "metadata": {},
   "outputs": [
    {
     "ename": "TypeError",
     "evalue": "'tuple' object doesn't support item deletion",
     "output_type": "error",
     "traceback": [
      "\u001b[0;31m---------------------------------------------------------------------------\u001b[0m",
      "\u001b[0;31mTypeError\u001b[0m                                 Traceback (most recent call last)",
      "\u001b[0;32m/var/folders/xr/5fv2rjx15t5g4p_k7d9tqjyr0000gn/T/ipykernel_71315/3773569889.py\u001b[0m in \u001b[0;36m<module>\u001b[0;34m\u001b[0m\n\u001b[0;32m----> 1\u001b[0;31m \u001b[0;32mdel\u001b[0m \u001b[0mx\u001b[0m\u001b[0;34m[\u001b[0m\u001b[0;36m2\u001b[0m\u001b[0;34m]\u001b[0m\u001b[0;34m\u001b[0m\u001b[0;34m\u001b[0m\u001b[0m\n\u001b[0m",
      "\u001b[0;31mTypeError\u001b[0m: 'tuple' object doesn't support item deletion"
     ]
    }
   ],
   "source": [
    "del x[2]"
   ]
  },
  {
   "cell_type": "markdown",
   "id": "009a0d45",
   "metadata": {},
   "source": [
    "## Ranges in Python \n",
    "Python also makes it possible to create a numeric sequence as a list using the range function. In\n",
    "this case, we can create the sequence $a+di, i = 0,..., n$. This is equivalent to $a, a+d, a+2d,...,a+\n",
    "nd$. This can be done using the range function as range(a,b,d) where $b = a + nd + 1$."
   ]
  },
  {
   "cell_type": "code",
   "execution_count": 103,
   "id": "4302dbd2",
   "metadata": {},
   "outputs": [
    {
     "data": {
      "text/plain": [
       "range(0, 10)"
      ]
     },
     "execution_count": 103,
     "metadata": {},
     "output_type": "execute_result"
    }
   ],
   "source": [
    "range(10)"
   ]
  },
  {
   "cell_type": "code",
   "execution_count": 104,
   "id": "08709594",
   "metadata": {},
   "outputs": [
    {
     "data": {
      "text/plain": [
       "range(0, 10)"
      ]
     },
     "execution_count": 104,
     "metadata": {},
     "output_type": "execute_result"
    }
   ],
   "source": [
    "range(0,10)"
   ]
  },
  {
   "cell_type": "code",
   "execution_count": 105,
   "id": "2578be42",
   "metadata": {},
   "outputs": [],
   "source": [
    "range?"
   ]
  },
  {
   "cell_type": "code",
   "execution_count": 106,
   "id": "5d14dd08",
   "metadata": {},
   "outputs": [
    {
     "data": {
      "text/plain": [
       "range(0, 10, 2)"
      ]
     },
     "execution_count": 106,
     "metadata": {},
     "output_type": "execute_result"
    }
   ],
   "source": [
    "range(0, 10, 2)"
   ]
  },
  {
   "cell_type": "code",
   "execution_count": 107,
   "id": "5ea85528",
   "metadata": {},
   "outputs": [
    {
     "data": {
      "text/plain": [
       "range(10, 0, -1)"
      ]
     },
     "execution_count": 107,
     "metadata": {},
     "output_type": "execute_result"
    }
   ],
   "source": [
    "range(10, 0, -1)"
   ]
  },
  {
   "cell_type": "code",
   "execution_count": 108,
   "id": "fe44934c",
   "metadata": {},
   "outputs": [
    {
     "data": {
      "text/plain": [
       "[0, 1, 2, 3, 4, 5, 6, 7, 8, 9]"
      ]
     },
     "execution_count": 108,
     "metadata": {},
     "output_type": "execute_result"
    }
   ],
   "source": [
    "list(range(10))"
   ]
  },
  {
   "cell_type": "code",
   "execution_count": 109,
   "id": "94a7c5ca",
   "metadata": {},
   "outputs": [
    {
     "data": {
      "text/plain": [
       "['__bool__',\n",
       " '__class__',\n",
       " '__contains__',\n",
       " '__delattr__',\n",
       " '__dir__',\n",
       " '__doc__',\n",
       " '__eq__',\n",
       " '__format__',\n",
       " '__ge__',\n",
       " '__getattribute__',\n",
       " '__getitem__',\n",
       " '__gt__',\n",
       " '__hash__',\n",
       " '__init__',\n",
       " '__init_subclass__',\n",
       " '__iter__',\n",
       " '__le__',\n",
       " '__len__',\n",
       " '__lt__',\n",
       " '__ne__',\n",
       " '__new__',\n",
       " '__reduce__',\n",
       " '__reduce_ex__',\n",
       " '__repr__',\n",
       " '__reversed__',\n",
       " '__setattr__',\n",
       " '__sizeof__',\n",
       " '__str__',\n",
       " '__subclasshook__',\n",
       " 'count',\n",
       " 'index',\n",
       " 'start',\n",
       " 'step',\n",
       " 'stop']"
      ]
     },
     "execution_count": 109,
     "metadata": {},
     "output_type": "execute_result"
    }
   ],
   "source": [
    "dir(range)"
   ]
  },
  {
   "cell_type": "code",
   "execution_count": 113,
   "id": "6aa05a36",
   "metadata": {},
   "outputs": [],
   "source": [
    "seq = range(0,10)"
   ]
  },
  {
   "cell_type": "code",
   "execution_count": 114,
   "id": "279f4103",
   "metadata": {},
   "outputs": [
    {
     "data": {
      "text/plain": [
       "range(0, 10)"
      ]
     },
     "execution_count": 114,
     "metadata": {},
     "output_type": "execute_result"
    }
   ],
   "source": [
    "seq"
   ]
  },
  {
   "cell_type": "code",
   "execution_count": 116,
   "id": "f89e10b9",
   "metadata": {},
   "outputs": [
    {
     "data": {
      "text/plain": [
       "(0, 4)"
      ]
     },
     "execution_count": 116,
     "metadata": {},
     "output_type": "execute_result"
    }
   ],
   "source": [
    "seq[0], seq[4]"
   ]
  },
  {
   "cell_type": "code",
   "execution_count": 117,
   "id": "6861092a",
   "metadata": {},
   "outputs": [
    {
     "data": {
      "text/plain": [
       "[0, 1, 2, 3, 4, 5, 6, 7, 8, 9]"
      ]
     },
     "execution_count": 117,
     "metadata": {},
     "output_type": "execute_result"
    }
   ],
   "source": [
    "list(seq)"
   ]
  },
  {
   "cell_type": "code",
   "execution_count": 118,
   "id": "34fe62ff",
   "metadata": {},
   "outputs": [],
   "source": [
    "seq?"
   ]
  },
  {
   "cell_type": "markdown",
   "id": "05ff8f48",
   "metadata": {},
   "source": [
    "## Sets and dictionaries in python"
   ]
  },
  {
   "cell_type": "code",
   "execution_count": 153,
   "id": "ce8355b4",
   "metadata": {},
   "outputs": [
    {
     "data": {
      "text/plain": [
       "{1, 2, 3}"
      ]
     },
     "execution_count": 153,
     "metadata": {},
     "output_type": "execute_result"
    }
   ],
   "source": [
    "set([1,2,3])"
   ]
  },
  {
   "cell_type": "code",
   "execution_count": 156,
   "id": "014a07e5",
   "metadata": {},
   "outputs": [
    {
     "data": {
      "text/plain": [
       "{1: 'a', 2: 'b'}"
      ]
     },
     "execution_count": 156,
     "metadata": {},
     "output_type": "execute_result"
    }
   ],
   "source": [
    "dict([[1,'a'], [2,\"b\"]])"
   ]
  },
  {
   "cell_type": "markdown",
   "id": "c257d567",
   "metadata": {},
   "source": [
    "# Control flow, list comprehensions and functions\n",
    "This is a fairly unique feature of Python - expressions are grouped together via indenting. This is relevant for control flow (if, for, while, etc.) as well as function and class definitions and many other aspects of the language.\n",
    "\n",
    "Indenting should be 2 or more spaces (4 is the preferred based on PEP 8) or tab characters - generally your IDE will handle this for you.\n",
    "## Conditionals\n",
    "\n",
    "Python supports tradition if / else style conditional expressions,"
   ]
  },
  {
   "cell_type": "code",
   "execution_count": null,
   "id": "bcfed7be",
   "metadata": {},
   "outputs": [],
   "source": []
  },
  {
   "cell_type": "code",
   "execution_count": 131,
   "id": "9f6cd4ad",
   "metadata": {},
   "outputs": [
    {
     "name": "stdout",
     "output_type": "stream",
     "text": [
      "X is positive\n"
     ]
    }
   ],
   "source": [
    "\n",
    "x = 42\n",
    "if x < 0:\n",
    "    print(\"X is negative\")\n",
    "elif x > 0:\n",
    "    print(\"X is positive\")\n",
    "else:\n",
    "    print(\"X is zero\")"
   ]
  },
  {
   "cell_type": "code",
   "execution_count": 132,
   "id": "302972ca",
   "metadata": {},
   "outputs": [
    {
     "name": "stdout",
     "output_type": "stream",
     "text": [
      "X is zero\n"
     ]
    }
   ],
   "source": [
    "x = 0\n",
    "if x < 0:\n",
    "    print(\"X is negative\")\n",
    "elif x > 0:\n",
    "    print(\"X is positive\")\n",
    "else:\n",
    "    print(\"X is zero\")"
   ]
  },
  {
   "cell_type": "code",
   "execution_count": 133,
   "id": "19b6e36e",
   "metadata": {},
   "outputs": [
    {
     "name": "stdout",
     "output_type": "stream",
     "text": [
      "X is zero\n"
     ]
    }
   ],
   "source": [
    "if x == 0: print (\"X is zero\") # If there is only one expression for example"
   ]
  },
  {
   "cell_type": "markdown",
   "id": "2e570444",
   "metadata": {},
   "source": [
    "## Loops in python: while and for"
   ]
  },
  {
   "cell_type": "code",
   "execution_count": 134,
   "id": "2b32615f",
   "metadata": {},
   "outputs": [
    {
     "data": {
      "text/plain": [
       "[17, 52, 26.0, 13.0, 40.0, 20.0, 10.0, 5.0, 16.0, 8.0, 4.0, 2.0, 1.0]"
      ]
     },
     "execution_count": 134,
     "metadata": {},
     "output_type": "execute_result"
    }
   ],
   "source": [
    "#Repeat until the given condition evaluates to False,\n",
    "\n",
    "i = 17\n",
    "seq = [i]\n",
    "while i != 1:\n",
    "    if i % 2 == 0:\n",
    "        i /= 2\n",
    "    else:\n",
    "        i = 3*i + 1\n",
    "    seq.append(i)\n",
    "seq"
   ]
  },
  {
   "cell_type": "markdown",
   "id": "0d779d1b",
   "metadata": {},
   "source": [
    "Anyone recognize what this is an example of?"
   ]
  },
  {
   "cell_type": "code",
   "execution_count": 135,
   "id": "3b6b7808",
   "metadata": {},
   "outputs": [
    {
     "name": "stdout",
     "output_type": "stream",
     "text": [
      "Hello 5\n",
      "world! 6\n"
     ]
    }
   ],
   "source": [
    "for w in [\"Hello\", \"world!\"]:\n",
    "    print(w, len(w))"
   ]
  },
  {
   "cell_type": "code",
   "execution_count": 137,
   "id": "165e10cf",
   "metadata": {},
   "outputs": [
    {
     "data": {
      "text/plain": [
       "10"
      ]
     },
     "execution_count": 137,
     "metadata": {},
     "output_type": "execute_result"
    }
   ],
   "source": [
    "mysum = 0\n",
    "for v in (1,2,3,4):\n",
    "    mysum += v\n",
    "mysum"
   ]
  },
  {
   "cell_type": "code",
   "execution_count": 139,
   "id": "3fe5fdc7",
   "metadata": {},
   "outputs": [
    {
     "data": {
      "text/plain": [
       "10"
      ]
     },
     "execution_count": 139,
     "metadata": {},
     "output_type": "execute_result"
    }
   ],
   "source": [
    "mysum = 0\n",
    "for v in range(1,5):\n",
    "    mysum += v\n",
    "mysum"
   ]
  },
  {
   "cell_type": "code",
   "execution_count": 143,
   "id": "c2cd24ca",
   "metadata": {},
   "outputs": [
    {
     "data": {
      "text/plain": [
       "10"
      ]
     },
     "execution_count": 143,
     "metadata": {},
     "output_type": "execute_result"
    }
   ],
   "source": [
    "mysum = 0\n",
    "for v in range(4,0,-1):\n",
    "    mysum += v\n",
    "mysum"
   ]
  },
  {
   "cell_type": "code",
   "execution_count": 144,
   "id": "1318bbd2",
   "metadata": {},
   "outputs": [
    {
     "data": {
      "text/plain": [
       "[1, 2, 3, 5, 6, 7]"
      ]
     },
     "execution_count": 144,
     "metadata": {},
     "output_type": "execute_result"
    }
   ],
   "source": [
    "res = []\n",
    "for c in \"abc123def567\":\n",
    "    if (c.isnumeric()):\n",
    "        res.append(int(c))\n",
    "res"
   ]
  },
  {
   "cell_type": "markdown",
   "id": "da4c7139",
   "metadata": {},
   "source": [
    "## break and continue\n",
    "Allow early loop exit or step to next iteration respectively"
   ]
  },
  {
   "cell_type": "code",
   "execution_count": 145,
   "id": "e113da1f",
   "metadata": {},
   "outputs": [
    {
     "name": "stdout",
     "output_type": "stream",
     "text": [
      "0 1 2 3 4 "
     ]
    }
   ],
   "source": [
    "for i in range(10):\n",
    "    if i == 5:\n",
    "        break\n",
    "    print(i, end=\" \")"
   ]
  },
  {
   "cell_type": "code",
   "execution_count": 146,
   "id": "cad8ee67",
   "metadata": {},
   "outputs": [
    {
     "name": "stdout",
     "output_type": "stream",
     "text": [
      "1 3 5 7 9 "
     ]
    }
   ],
   "source": [
    "for i in range(10):\n",
    "    if i % 2 == 0:\n",
    "        continue\n",
    "    print(i, end=\" \")"
   ]
  },
  {
   "cell_type": "markdown",
   "id": "47716113",
   "metadata": {},
   "source": [
    "## loops and else?\n",
    "\n",
    "Both for and while loops can also have else clauses which execute when the loop is terminated by fully iterating (for) or meetings the while condition, i.e. when break does not execute."
   ]
  },
  {
   "cell_type": "code",
   "execution_count": 149,
   "id": "ed17d61e",
   "metadata": {},
   "outputs": [
    {
     "name": "stdout",
     "output_type": "stream",
     "text": [
      "2 is a ?? number\n",
      "3 is a ?? number\n",
      "4 equals 2 * 2\n",
      "5 is a ?? number\n",
      "6 equals 2 * 3\n",
      "7 is a ?? number\n",
      "8 equals 2 * 4\n",
      "9 equals 3 * 3\n"
     ]
    }
   ],
   "source": [
    "# From python tutorial - Section 4.4\n",
    "for n in range(2, 10):\n",
    "    for x in range(2, n):\n",
    "        if n % x == 0:\n",
    "            print(n, 'equals', x, '*', n//x)\n",
    "            break\n",
    "    else:\n",
    "        print(n, 'is a ?? number')"
   ]
  },
  {
   "cell_type": "markdown",
   "id": "b4f45c89",
   "metadata": {},
   "source": [
    "## pass instruction in python \n",
    "\n",
    "This is a expression that does nothing, it can be used when an expression is needed syntaxtically.\n"
   ]
  },
  {
   "cell_type": "code",
   "execution_count": 150,
   "id": "c0d8825d",
   "metadata": {},
   "outputs": [],
   "source": [
    "x = -3\n",
    "if x < 0:\n",
    "    pass\n",
    "elif x % 2 == 0:\n",
    "    print(\"x is even\")\n",
    "elif x % 2 == 1:\n",
    "    print(\"x is odd\")"
   ]
  },
  {
   "cell_type": "markdown",
   "id": "ebfc90ea",
   "metadata": {},
   "source": [
    "## List comprehensions \n",
    "They provides a concise syntax for generating lists"
   ]
  },
  {
   "cell_type": "code",
   "execution_count": 157,
   "id": "5c37760e",
   "metadata": {},
   "outputs": [
    {
     "data": {
      "text/plain": [
       "[0, 1, 4, 9, 16, 25, 36, 49, 64, 81]"
      ]
     },
     "execution_count": 157,
     "metadata": {},
     "output_type": "execute_result"
    }
   ],
   "source": [
    "[x**2 for x in range(10)]"
   ]
  },
  {
   "cell_type": "code",
   "execution_count": 158,
   "id": "bac1b7ee",
   "metadata": {},
   "outputs": [
    {
     "data": {
      "text/plain": [
       "[1, 4, 9]"
      ]
     },
     "execution_count": 158,
     "metadata": {},
     "output_type": "execute_result"
    }
   ],
   "source": [
    "[x**2 for x in (1,2,3)]"
   ]
  },
  {
   "cell_type": "code",
   "execution_count": 159,
   "id": "765fce91",
   "metadata": {},
   "outputs": [
    {
     "data": {
      "text/plain": [
       "[0, 4, 16, 36, 64]"
      ]
     },
     "execution_count": 159,
     "metadata": {},
     "output_type": "execute_result"
    }
   ],
   "source": [
    "[x**2 for x in range(10) if x % 2 == 0]"
   ]
  },
  {
   "cell_type": "code",
   "execution_count": 160,
   "id": "66c6cd81",
   "metadata": {},
   "outputs": [
    {
     "data": {
      "text/plain": [
       "[0, 36]"
      ]
     },
     "execution_count": 160,
     "metadata": {},
     "output_type": "execute_result"
    }
   ],
   "source": [
    "[x**2 for x in range(10) if x % 2 == 0 if x % 3 ==0]"
   ]
  },
  {
   "cell_type": "code",
   "execution_count": 161,
   "id": "80af678a",
   "metadata": {},
   "outputs": [
    {
     "data": {
      "text/plain": [
       "[(0, 0), (0, 1), (0, 2), (1, 0), (1, 1), (1, 2), (2, 0), (2, 1), (2, 2)]"
      ]
     },
     "execution_count": 161,
     "metadata": {},
     "output_type": "execute_result"
    }
   ],
   "source": [
    "[(x, y) for x in range(3) for y in range(3)]"
   ]
  },
  {
   "cell_type": "code",
   "execution_count": 163,
   "id": "95d8b005",
   "metadata": {},
   "outputs": [
    {
     "data": {
      "text/plain": [
       "<zip at 0x7fd7f96cb2d0>"
      ]
     },
     "execution_count": 163,
     "metadata": {},
     "output_type": "execute_result"
    }
   ],
   "source": [
    "x = [1,2,3]\n",
    "y = [3,2,1]\n",
    "\n",
    "z = zip(x, y)\n",
    "z"
   ]
  },
  {
   "cell_type": "code",
   "execution_count": 164,
   "id": "87db846c",
   "metadata": {},
   "outputs": [
    {
     "data": {
      "text/plain": [
       "[(1, 3), (2, 2), (3, 1)]"
      ]
     },
     "execution_count": 164,
     "metadata": {},
     "output_type": "execute_result"
    }
   ],
   "source": [
    "list(z)"
   ]
  },
  {
   "cell_type": "code",
   "execution_count": 165,
   "id": "34f6b9b2",
   "metadata": {},
   "outputs": [],
   "source": [
    "zip?"
   ]
  },
  {
   "cell_type": "code",
   "execution_count": 166,
   "id": "55552eb7",
   "metadata": {},
   "outputs": [
    {
     "data": {
      "text/plain": [
       "[1, 4, 3]"
      ]
     },
     "execution_count": 166,
     "metadata": {},
     "output_type": "execute_result"
    }
   ],
   "source": [
    "[a**b for a,b in zip(x,y)]"
   ]
  },
  {
   "cell_type": "code",
   "execution_count": 168,
   "id": "8157460d",
   "metadata": {},
   "outputs": [
    {
     "data": {
      "text/plain": [
       "[(1, 0), (2, 1), (3, 2)]"
      ]
     },
     "execution_count": 168,
     "metadata": {},
     "output_type": "execute_result"
    }
   ],
   "source": [
    "x = [1,2,3,4]\n",
    "y = range(3) # y=[0,1,2]\n",
    "z = \"ABCDE\"\n",
    "list(zip(x,y))"
   ]
  },
  {
   "cell_type": "code",
   "execution_count": 169,
   "id": "f868de91",
   "metadata": {},
   "outputs": [
    {
     "data": {
      "text/plain": [
       "[(1, 'A'), (2, 'B'), (3, 'C'), (4, 'D')]"
      ]
     },
     "execution_count": 169,
     "metadata": {},
     "output_type": "execute_result"
    }
   ],
   "source": [
    "list(zip(x,z))"
   ]
  },
  {
   "cell_type": "markdown",
   "id": "322218ca",
   "metadata": {},
   "source": [
    "## Exercise\n",
    "\n",
    "Using list comprehensions, complete the following tasks:\n",
    "\n",
    "Create a list containing tuples of $x$ and $y$ coordinates of all points of a regular grid for $x \\in [0,10]$ and $y \\in [0,10]$\n",
    "\n",
    "- Count the number of points where $y>x$\n",
    "\n",
    "- Count the number of points $x$ or $y$ is prime."
   ]
  },
  {
   "cell_type": "markdown",
   "id": "d1c3768a",
   "metadata": {},
   "source": [
    "## Basic functions in python \n",
    "Functions are defined using def, arguments can be defined with out without default values."
   ]
  },
  {
   "cell_type": "code",
   "execution_count": 170,
   "id": "dca0cb77",
   "metadata": {},
   "outputs": [],
   "source": [
    "def f(x, y=2, z=3):\n",
    "    print(f\"x={x}, y={y}, z={z}\")"
   ]
  },
  {
   "cell_type": "code",
   "execution_count": 172,
   "id": "890a55b8",
   "metadata": {},
   "outputs": [
    {
     "name": "stdout",
     "output_type": "stream",
     "text": [
      "x=2, y=2, z=3\n"
     ]
    }
   ],
   "source": [
    "f(2)"
   ]
  },
  {
   "cell_type": "code",
   "execution_count": 173,
   "id": "10c12998",
   "metadata": {},
   "outputs": [
    {
     "name": "stdout",
     "output_type": "stream",
     "text": [
      "x=abc, y=True, z=3\n"
     ]
    }
   ],
   "source": [
    "f(\"abc\", y=True)"
   ]
  },
  {
   "cell_type": "code",
   "execution_count": 174,
   "id": "9b29d77a",
   "metadata": {},
   "outputs": [
    {
     "ename": "TypeError",
     "evalue": "f() missing 1 required positional argument: 'x'",
     "output_type": "error",
     "traceback": [
      "\u001b[0;31m---------------------------------------------------------------------------\u001b[0m",
      "\u001b[0;31mTypeError\u001b[0m                                 Traceback (most recent call last)",
      "\u001b[0;32m/var/folders/xr/5fv2rjx15t5g4p_k7d9tqjyr0000gn/T/ipykernel_71315/3782956317.py\u001b[0m in \u001b[0;36m<module>\u001b[0;34m\u001b[0m\n\u001b[0;32m----> 1\u001b[0;31m \u001b[0mf\u001b[0m\u001b[0;34m(\u001b[0m\u001b[0;34m)\u001b[0m\u001b[0;34m\u001b[0m\u001b[0;34m\u001b[0m\u001b[0m\n\u001b[0m",
      "\u001b[0;31mTypeError\u001b[0m: f() missing 1 required positional argument: 'x'"
     ]
    }
   ],
   "source": [
    "f()"
   ]
  },
  {
   "cell_type": "code",
   "execution_count": 182,
   "id": "a037a230",
   "metadata": {},
   "outputs": [],
   "source": [
    "def f(x:int, y=2, z=3) -> int:\n",
    "    print(f\"x={x}, y={y}, z={z}\")\n",
    "    return x"
   ]
  },
  {
   "cell_type": "code",
   "execution_count": 183,
   "id": "9e4bdada",
   "metadata": {},
   "outputs": [
    {
     "name": "stdout",
     "output_type": "stream",
     "text": [
      "x=abc, y=True, z=3\n"
     ]
    },
    {
     "data": {
      "text/plain": [
       "'abc'"
      ]
     },
     "execution_count": 183,
     "metadata": {},
     "output_type": "execute_result"
    }
   ],
   "source": [
    "f(\"abc\", y=True)"
   ]
  },
  {
   "cell_type": "code",
   "execution_count": 185,
   "id": "d45cc738",
   "metadata": {},
   "outputs": [],
   "source": [
    "f?"
   ]
  },
  {
   "cell_type": "code",
   "execution_count": 186,
   "id": "ab7df7fe",
   "metadata": {},
   "outputs": [],
   "source": [
    "g = lambda x,y : x**y\n",
    "sign = lambda x: 1 if x > 0 else -1 if x < 0 else 0"
   ]
  },
  {
   "cell_type": "code",
   "execution_count": null,
   "id": "929e2dba",
   "metadata": {},
   "outputs": [],
   "source": []
  }
 ],
 "metadata": {
  "kernelspec": {
   "display_name": "Python 3 (ipykernel)",
   "language": "python",
   "name": "python3"
  },
  "language_info": {
   "codemirror_mode": {
    "name": "ipython",
    "version": 3
   },
   "file_extension": ".py",
   "mimetype": "text/x-python",
   "name": "python",
   "nbconvert_exporter": "python",
   "pygments_lexer": "ipython3",
   "version": "3.7.15"
  }
 },
 "nbformat": 4,
 "nbformat_minor": 5
}
