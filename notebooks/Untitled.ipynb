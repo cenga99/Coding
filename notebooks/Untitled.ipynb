{
 "cells": [
  {
   "cell_type": "code",
   "execution_count": null,
   "id": "ba133149",
   "metadata": {},
   "outputs": [],
   "source": [
    "sdjdsa"
   ]
  },
  {
   "cell_type": "code",
   "execution_count": null,
   "id": "72a284de",
   "metadata": {},
   "outputs": [],
   "source": []
  }
 ],
 "metadata": {
  "kernelspec": {
   "display_name": "Python 3 (ipykernel)",
   "language": "python",
   "name": "python3"
  }
 },
 "nbformat": 4,
 "nbformat_minor": 5
}
